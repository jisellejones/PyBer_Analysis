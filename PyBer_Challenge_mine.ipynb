{
 "cells": [
  {
   "cell_type": "markdown",
   "id": "5ef40721",
   "metadata": {},
   "source": [
    "# Background\n",
    "V. Isualize has given you and Omar a brand-new assignment. Using your Python skills and knowledge of Pandas, you’ll create a summary DataFrame of the ride-sharing data by city type. Then, using Pandas and Matplotlib, you’ll create a multiple-line graph that shows the total weekly fares for each city type. Finally, you’ll submit a written report that summarizes how the data differs by city type and how those differences can be used by decision-makers at PyBer."
   ]
  },
  {
   "cell_type": "markdown",
   "id": "c1cad46b",
   "metadata": {},
   "source": [
    "# What You're Creating\n",
    "\n",
    "This new assignment consists of two technical analysis deliverables and a written report to present your results. You will submit the following:\n",
    "\n",
    "Deliverable 1: A ride-sharing summary DataFrame by city type\n",
    "Deliverable 2: A multiple-line chart of total fares for each city type\n",
    "Deliverable 3: A written report for the PyBer analysis (README.md)"
   ]
  },
  {
   "cell_type": "markdown",
   "id": "bf68142b",
   "metadata": {},
   "source": [
    "\n",
    "# Deliverable #1\n",
    "\n",
    "1. total number of rides, \n",
    "2. total number of drivers, \n",
    "3. and the total fares\n",
    "\n"
   ]
  },
  {
   "cell_type": "code",
   "execution_count": null,
   "id": "833c16e4",
   "metadata": {},
   "outputs": [],
   "source": []
  }
 ],
 "metadata": {
  "kernelspec": {
   "display_name": "pythonData3.7",
   "language": "python",
   "name": "pythondata3.7"
  },
  "language_info": {
   "codemirror_mode": {
    "name": "ipython",
    "version": 3
   },
   "file_extension": ".py",
   "mimetype": "text/x-python",
   "name": "python",
   "nbconvert_exporter": "python",
   "pygments_lexer": "ipython3",
   "version": "3.7.10"
  }
 },
 "nbformat": 4,
 "nbformat_minor": 5
}
